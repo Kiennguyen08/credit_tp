{
 "cells": [
  {
   "cell_type": "code",
   "execution_count": 1,
   "metadata": {},
   "outputs": [],
   "source": [
    "import pandas as pd\n",
    "import numpy as np\n",
    "import seaborn as sns\n",
    "import matplotlib.pyplot as plt"
   ]
  },
  {
   "cell_type": "code",
   "execution_count": 2,
   "metadata": {},
   "outputs": [],
   "source": [
    "sheets_dict = pd.read_excel('bode1/EVOCARD.xlsx', sheet_name=None)"
   ]
  },
  {
   "cell_type": "code",
   "execution_count": 3,
   "metadata": {},
   "outputs": [],
   "source": [
    "for sheet_name, df in sheets_dict.items():\n",
    "    if sheet_name == 'CARD_FACT':\n",
    "        fact_df = df.copy()\n",
    "    elif sheet_name == \"CARD_DIM\":\n",
    "        dim_df =  df.copy()\n"
   ]
  },
  {
   "cell_type": "code",
   "execution_count": 4,
   "metadata": {},
   "outputs": [],
   "source": [
    "fact_df.to_csv(\"fact.csv\", index=False)\n",
    "dim_df.to_csv(\"dim.csv\", index=False)"
   ]
  },
  {
   "cell_type": "code",
   "execution_count": 49,
   "metadata": {},
   "outputs": [
    {
     "data": {
      "text/html": [
       "<div>\n",
       "<style scoped>\n",
       "    .dataframe tbody tr th:only-of-type {\n",
       "        vertical-align: middle;\n",
       "    }\n",
       "\n",
       "    .dataframe tbody tr th {\n",
       "        vertical-align: top;\n",
       "    }\n",
       "\n",
       "    .dataframe thead th {\n",
       "        text-align: right;\n",
       "    }\n",
       "</style>\n",
       "<table border=\"1\" class=\"dataframe\">\n",
       "  <thead>\n",
       "    <tr style=\"text-align: right;\">\n",
       "      <th></th>\n",
       "      <th>NET_CASH_FLOW_AMT_LCY</th>\n",
       "      <th>TXN_SRC_ID</th>\n",
       "    </tr>\n",
       "  </thead>\n",
       "  <tbody>\n",
       "    <tr>\n",
       "      <th>count</th>\n",
       "      <td>1.943800e+04</td>\n",
       "      <td>1.180900e+04</td>\n",
       "    </tr>\n",
       "    <tr>\n",
       "      <th>mean</th>\n",
       "      <td>1.173832e+06</td>\n",
       "      <td>3.510026e+08</td>\n",
       "    </tr>\n",
       "    <tr>\n",
       "      <th>std</th>\n",
       "      <td>4.251359e+06</td>\n",
       "      <td>3.579121e+07</td>\n",
       "    </tr>\n",
       "    <tr>\n",
       "      <th>min</th>\n",
       "      <td>0.000000e+00</td>\n",
       "      <td>2.705736e+08</td>\n",
       "    </tr>\n",
       "    <tr>\n",
       "      <th>25%</th>\n",
       "      <td>4.700000e+04</td>\n",
       "      <td>3.194605e+08</td>\n",
       "    </tr>\n",
       "    <tr>\n",
       "      <th>50%</th>\n",
       "      <td>1.440000e+05</td>\n",
       "      <td>3.538664e+08</td>\n",
       "    </tr>\n",
       "    <tr>\n",
       "      <th>75%</th>\n",
       "      <td>5.000000e+05</td>\n",
       "      <td>3.805599e+08</td>\n",
       "    </tr>\n",
       "    <tr>\n",
       "      <th>max</th>\n",
       "      <td>5.090886e+07</td>\n",
       "      <td>4.107720e+08</td>\n",
       "    </tr>\n",
       "  </tbody>\n",
       "</table>\n",
       "</div>"
      ],
      "text/plain": [
       "       NET_CASH_FLOW_AMT_LCY    TXN_SRC_ID\n",
       "count           1.943800e+04  1.180900e+04\n",
       "mean            1.173832e+06  3.510026e+08\n",
       "std             4.251359e+06  3.579121e+07\n",
       "min             0.000000e+00  2.705736e+08\n",
       "25%             4.700000e+04  3.194605e+08\n",
       "50%             1.440000e+05  3.538664e+08\n",
       "75%             5.000000e+05  3.805599e+08\n",
       "max             5.090886e+07  4.107720e+08"
      ]
     },
     "execution_count": 49,
     "metadata": {},
     "output_type": "execute_result"
    }
   ],
   "source": [
    "fact_df.describe()"
   ]
  },
  {
   "cell_type": "code",
   "execution_count": 50,
   "metadata": {},
   "outputs": [
    {
     "data": {
      "text/html": [
       "<div>\n",
       "<style scoped>\n",
       "    .dataframe tbody tr th:only-of-type {\n",
       "        vertical-align: middle;\n",
       "    }\n",
       "\n",
       "    .dataframe tbody tr th {\n",
       "        vertical-align: top;\n",
       "    }\n",
       "\n",
       "    .dataframe thead th {\n",
       "        text-align: right;\n",
       "    }\n",
       "</style>\n",
       "<table border=\"1\" class=\"dataframe\">\n",
       "  <thead>\n",
       "    <tr style=\"text-align: right;\">\n",
       "      <th></th>\n",
       "      <th>CREDIT_LIMIT</th>\n",
       "    </tr>\n",
       "  </thead>\n",
       "  <tbody>\n",
       "    <tr>\n",
       "      <th>count</th>\n",
       "      <td>1.100000e+02</td>\n",
       "    </tr>\n",
       "    <tr>\n",
       "      <th>mean</th>\n",
       "      <td>3.265455e+07</td>\n",
       "    </tr>\n",
       "    <tr>\n",
       "      <th>std</th>\n",
       "      <td>2.199518e+07</td>\n",
       "    </tr>\n",
       "    <tr>\n",
       "      <th>min</th>\n",
       "      <td>5.000000e+06</td>\n",
       "    </tr>\n",
       "    <tr>\n",
       "      <th>25%</th>\n",
       "      <td>1.800000e+07</td>\n",
       "    </tr>\n",
       "    <tr>\n",
       "      <th>50%</th>\n",
       "      <td>3.000000e+07</td>\n",
       "    </tr>\n",
       "    <tr>\n",
       "      <th>75%</th>\n",
       "      <td>4.975000e+07</td>\n",
       "    </tr>\n",
       "    <tr>\n",
       "      <th>max</th>\n",
       "      <td>2.000000e+08</td>\n",
       "    </tr>\n",
       "  </tbody>\n",
       "</table>\n",
       "</div>"
      ],
      "text/plain": [
       "       CREDIT_LIMIT\n",
       "count  1.100000e+02\n",
       "mean   3.265455e+07\n",
       "std    2.199518e+07\n",
       "min    5.000000e+06\n",
       "25%    1.800000e+07\n",
       "50%    3.000000e+07\n",
       "75%    4.975000e+07\n",
       "max    2.000000e+08"
      ]
     },
     "execution_count": 50,
     "metadata": {},
     "output_type": "execute_result"
    }
   ],
   "source": [
    "dim_df.describe()"
   ]
  },
  {
   "cell_type": "code",
   "execution_count": 51,
   "metadata": {},
   "outputs": [
    {
     "data": {
      "text/html": [
       "<div>\n",
       "<style scoped>\n",
       "    .dataframe tbody tr th:only-of-type {\n",
       "        vertical-align: middle;\n",
       "    }\n",
       "\n",
       "    .dataframe tbody tr th {\n",
       "        vertical-align: top;\n",
       "    }\n",
       "\n",
       "    .dataframe thead th {\n",
       "        text-align: right;\n",
       "    }\n",
       "</style>\n",
       "<table border=\"1\" class=\"dataframe\">\n",
       "  <thead>\n",
       "    <tr style=\"text-align: right;\">\n",
       "      <th></th>\n",
       "      <th>CIF hash</th>\n",
       "      <th>CARD_NBR hash</th>\n",
       "      <th>TXN_TM</th>\n",
       "      <th>TML_WEB_AP_NM</th>\n",
       "      <th>DSC</th>\n",
       "      <th>NET_CASH_FLOW_AMT_LCY</th>\n",
       "      <th>TXN_SRC_ID</th>\n",
       "      <th>CARD_CLASSCIFICATION</th>\n",
       "    </tr>\n",
       "  </thead>\n",
       "  <tbody>\n",
       "    <tr>\n",
       "      <th>0</th>\n",
       "      <td>0deb82c7391489aa02c771fec3b67f0f</td>\n",
       "      <td>41874f1bdd5736ee9e3c884326e3137839484f3ab3a86b...</td>\n",
       "      <td>2022-05-22 08:51:55</td>\n",
       "      <td>OPTP0000</td>\n",
       "      <td>MOMO VN 1900545441 704</td>\n",
       "      <td>512200.0</td>\n",
       "      <td>270597152.0</td>\n",
       "      <td>VC</td>\n",
       "    </tr>\n",
       "    <tr>\n",
       "      <th>1</th>\n",
       "      <td>0828e14ddfd5dcfe9b2fc7a54eeba5f8</td>\n",
       "      <td>f0b80252f29a51ae72a1e4a259ca6857824f00e62cc868...</td>\n",
       "      <td>2022-05-22 17:50:35</td>\n",
       "      <td>OPTP0000</td>\n",
       "      <td>WCM_VINMART_6155_NGUYENXI NGHE AN 704</td>\n",
       "      <td>188611.0</td>\n",
       "      <td>270710131.0</td>\n",
       "      <td>VC</td>\n",
       "    </tr>\n",
       "    <tr>\n",
       "      <th>2</th>\n",
       "      <td>0828e14ddfd5dcfe9b2fc7a54eeba5f8</td>\n",
       "      <td>f0b80252f29a51ae72a1e4a259ca6857824f00e62cc868...</td>\n",
       "      <td>2022-05-22 15:39:27</td>\n",
       "      <td>OPTP0000</td>\n",
       "      <td>WCM_VINMART_6155_NGUYENXI NGHE AN 704</td>\n",
       "      <td>13300.0</td>\n",
       "      <td>270677082.0</td>\n",
       "      <td>VC</td>\n",
       "    </tr>\n",
       "    <tr>\n",
       "      <th>3</th>\n",
       "      <td>895db5780821af47717c3447e8ced28c</td>\n",
       "      <td>a42fc5e25c28e04f0bda644d552a5d444cfbb6c036155a...</td>\n",
       "      <td>2022-11-20 22:20:49</td>\n",
       "      <td>OPTP0000</td>\n",
       "      <td>VNPAY*HNPMC514 Q HAI BA TRUN 704</td>\n",
       "      <td>90000.0</td>\n",
       "      <td>321780907.0</td>\n",
       "      <td>VC</td>\n",
       "    </tr>\n",
       "    <tr>\n",
       "      <th>4</th>\n",
       "      <td>621622e23117bf891052887aa0e9f6f6</td>\n",
       "      <td>d8fee6aaeb16d1a4c2d753fb4900a2d6b6ed6f7ead6b94...</td>\n",
       "      <td>2022-11-20 00:00:00</td>\n",
       "      <td>OPTP0000</td>\n",
       "      <td>CON CUNG HCM-317 HOANG DI HCM  704 00000</td>\n",
       "      <td>2000000.0</td>\n",
       "      <td>NaN</td>\n",
       "      <td>VC</td>\n",
       "    </tr>\n",
       "  </tbody>\n",
       "</table>\n",
       "</div>"
      ],
      "text/plain": [
       "                           CIF hash  \\\n",
       "0  0deb82c7391489aa02c771fec3b67f0f   \n",
       "1  0828e14ddfd5dcfe9b2fc7a54eeba5f8   \n",
       "2  0828e14ddfd5dcfe9b2fc7a54eeba5f8   \n",
       "3  895db5780821af47717c3447e8ced28c   \n",
       "4  621622e23117bf891052887aa0e9f6f6   \n",
       "\n",
       "                                       CARD_NBR hash               TXN_TM  \\\n",
       "0  41874f1bdd5736ee9e3c884326e3137839484f3ab3a86b...  2022-05-22 08:51:55   \n",
       "1  f0b80252f29a51ae72a1e4a259ca6857824f00e62cc868...  2022-05-22 17:50:35   \n",
       "2  f0b80252f29a51ae72a1e4a259ca6857824f00e62cc868...  2022-05-22 15:39:27   \n",
       "3  a42fc5e25c28e04f0bda644d552a5d444cfbb6c036155a...  2022-11-20 22:20:49   \n",
       "4  d8fee6aaeb16d1a4c2d753fb4900a2d6b6ed6f7ead6b94...  2022-11-20 00:00:00   \n",
       "\n",
       "  TML_WEB_AP_NM                                       DSC  \\\n",
       "0      OPTP0000                    MOMO VN 1900545441 704   \n",
       "1      OPTP0000     WCM_VINMART_6155_NGUYENXI NGHE AN 704   \n",
       "2      OPTP0000     WCM_VINMART_6155_NGUYENXI NGHE AN 704   \n",
       "3      OPTP0000          VNPAY*HNPMC514 Q HAI BA TRUN 704   \n",
       "4      OPTP0000  CON CUNG HCM-317 HOANG DI HCM  704 00000   \n",
       "\n",
       "   NET_CASH_FLOW_AMT_LCY   TXN_SRC_ID CARD_CLASSCIFICATION  \n",
       "0               512200.0  270597152.0                   VC  \n",
       "1               188611.0  270710131.0                   VC  \n",
       "2                13300.0  270677082.0                   VC  \n",
       "3                90000.0  321780907.0                   VC  \n",
       "4              2000000.0          NaN                   VC  "
      ]
     },
     "execution_count": 51,
     "metadata": {},
     "output_type": "execute_result"
    }
   ],
   "source": [
    "fact_df.head()"
   ]
  },
  {
   "cell_type": "code",
   "execution_count": 52,
   "metadata": {},
   "outputs": [
    {
     "data": {
      "text/html": [
       "<div>\n",
       "<style scoped>\n",
       "    .dataframe tbody tr th:only-of-type {\n",
       "        vertical-align: middle;\n",
       "    }\n",
       "\n",
       "    .dataframe tbody tr th {\n",
       "        vertical-align: top;\n",
       "    }\n",
       "\n",
       "    .dataframe thead th {\n",
       "        text-align: right;\n",
       "    }\n",
       "</style>\n",
       "<table border=\"1\" class=\"dataframe\">\n",
       "  <thead>\n",
       "    <tr style=\"text-align: right;\">\n",
       "      <th></th>\n",
       "      <th>CIF hash</th>\n",
       "      <th>CARD_NBR hash</th>\n",
       "      <th>CREDIT_LIMIT</th>\n",
       "    </tr>\n",
       "  </thead>\n",
       "  <tbody>\n",
       "    <tr>\n",
       "      <th>0</th>\n",
       "      <td>8be1cf5b2f6631bb1ac59870f7f669a6</td>\n",
       "      <td>30301079b6939d5d023e1e8c0dd4cc1e3afdfbcf71c76d...</td>\n",
       "      <td>16000000</td>\n",
       "    </tr>\n",
       "    <tr>\n",
       "      <th>1</th>\n",
       "      <td>4245fc82e1c81cecfc821752609a8289</td>\n",
       "      <td>7bc66484f2e2db4c181a076a11450b7d0359478c57dd21...</td>\n",
       "      <td>20000000</td>\n",
       "    </tr>\n",
       "    <tr>\n",
       "      <th>2</th>\n",
       "      <td>24dc185ddc00fdbe7a3519e5a3bb2c12</td>\n",
       "      <td>ef3100c465a27ebfbbb714535de2a3441ad952eff3f6d2...</td>\n",
       "      <td>49000000</td>\n",
       "    </tr>\n",
       "    <tr>\n",
       "      <th>3</th>\n",
       "      <td>0340ab3837f34a1aa87d5b5a8a25a07e</td>\n",
       "      <td>8a310933f4b7f835b19a0a8a2ab43ef865e49111d3fb0a...</td>\n",
       "      <td>17000000</td>\n",
       "    </tr>\n",
       "    <tr>\n",
       "      <th>4</th>\n",
       "      <td>87d7997fd71709aad458a1b3b9c77e33</td>\n",
       "      <td>3aed5f483b3f8fd580f979313770e06f7252c4a480d866...</td>\n",
       "      <td>23000000</td>\n",
       "    </tr>\n",
       "  </tbody>\n",
       "</table>\n",
       "</div>"
      ],
      "text/plain": [
       "                           CIF hash  \\\n",
       "0  8be1cf5b2f6631bb1ac59870f7f669a6   \n",
       "1  4245fc82e1c81cecfc821752609a8289   \n",
       "2  24dc185ddc00fdbe7a3519e5a3bb2c12   \n",
       "3  0340ab3837f34a1aa87d5b5a8a25a07e   \n",
       "4  87d7997fd71709aad458a1b3b9c77e33   \n",
       "\n",
       "                                       CARD_NBR hash  CREDIT_LIMIT  \n",
       "0  30301079b6939d5d023e1e8c0dd4cc1e3afdfbcf71c76d...      16000000  \n",
       "1  7bc66484f2e2db4c181a076a11450b7d0359478c57dd21...      20000000  \n",
       "2  ef3100c465a27ebfbbb714535de2a3441ad952eff3f6d2...      49000000  \n",
       "3  8a310933f4b7f835b19a0a8a2ab43ef865e49111d3fb0a...      17000000  \n",
       "4  3aed5f483b3f8fd580f979313770e06f7252c4a480d866...      23000000  "
      ]
     },
     "execution_count": 52,
     "metadata": {},
     "output_type": "execute_result"
    }
   ],
   "source": [
    "dim_df.head()"
   ]
  },
  {
   "cell_type": "code",
   "execution_count": 53,
   "metadata": {},
   "outputs": [
    {
     "data": {
      "text/plain": [
       "<Figure size 1200x800 with 0 Axes>"
      ]
     },
     "metadata": {},
     "output_type": "display_data"
    },
    {
     "data": {
      "image/png": "[encoded data removed]",
      "text/plain": [
       "<Figure size 640x480 with 1 Axes>"
      ]
     },
     "metadata": {},
     "output_type": "display_data"
    }
   ],
   "source": [
    "plt.figure(figsize=(12,8))\n",
    "dim_df.hist()\n",
    "plt.tight_layout()\n",
    "plt.show()"
   ]
  },
  {
   "cell_type": "code",
   "execution_count": 54,
   "metadata": {},
   "outputs": [
    {
     "name": "stdout",
     "output_type": "stream",
     "text": [
      "<class 'pandas.core.frame.DataFrame'>\n",
      "RangeIndex: 110 entries, 0 to 109\n",
      "Data columns (total 3 columns):\n",
      " #   Column         Non-Null Count  Dtype \n",
      "---  ------         --------------  ----- \n",
      " 0   CIF hash       110 non-null    object\n",
      " 1   CARD_NBR hash  110 non-null    object\n",
      " 2   CREDIT_LIMIT   110 non-null    int64 \n",
      "dtypes: int64(1), object(2)\n",
      "memory usage: 2.7+ KB\n"
     ]
    }
   ],
   "source": [
    "dim_df.info()"
   ]
  },
  {
   "cell_type": "code",
   "execution_count": 55,
   "metadata": {},
   "outputs": [
    {
     "name": "stdout",
     "output_type": "stream",
     "text": [
      "<class 'pandas.core.frame.DataFrame'>\n",
      "RangeIndex: 19561 entries, 0 to 19560\n",
      "Data columns (total 8 columns):\n",
      " #   Column                 Non-Null Count  Dtype  \n",
      "---  ------                 --------------  -----  \n",
      " 0   CIF hash               19561 non-null  object \n",
      " 1   CARD_NBR hash          19561 non-null  object \n",
      " 2   TXN_TM                 19561 non-null  object \n",
      " 3   TML_WEB_AP_NM          19561 non-null  object \n",
      " 4   DSC                    19246 non-null  object \n",
      " 5   NET_CASH_FLOW_AMT_LCY  19438 non-null  float64\n",
      " 6   TXN_SRC_ID             11809 non-null  float64\n",
      " 7   CARD_CLASSCIFICATION   19561 non-null  object \n",
      "dtypes: float64(2), object(6)\n",
      "memory usage: 1.2+ MB\n"
     ]
    }
   ],
   "source": [
    "fact_df.info()"
   ]
  },
  {
   "cell_type": "code",
   "execution_count": 56,
   "metadata": {},
   "outputs": [],
   "source": [
    "merged_df = pd.merge(fact_df, dim_df, on=['CIF hash', 'CARD_NBR hash'], how=\"outer\", suffixes=('_left','_right'))"
   ]
  },
  {
   "cell_type": "code",
   "execution_count": 57,
   "metadata": {},
   "outputs": [
    {
     "data": {
      "text/html": [
       "<div>\n",
       "<style scoped>\n",
       "    .dataframe tbody tr th:only-of-type {\n",
       "        vertical-align: middle;\n",
       "    }\n",
       "\n",
       "    .dataframe tbody tr th {\n",
       "        vertical-align: top;\n",
       "    }\n",
       "\n",
       "    .dataframe thead th {\n",
       "        text-align: right;\n",
       "    }\n",
       "</style>\n",
       "<table border=\"1\" class=\"dataframe\">\n",
       "  <thead>\n",
       "    <tr style=\"text-align: right;\">\n",
       "      <th></th>\n",
       "      <th>CIF hash</th>\n",
       "      <th>CARD_NBR hash</th>\n",
       "      <th>TXN_TM</th>\n",
       "      <th>TML_WEB_AP_NM</th>\n",
       "      <th>DSC</th>\n",
       "      <th>NET_CASH_FLOW_AMT_LCY</th>\n",
       "      <th>TXN_SRC_ID</th>\n",
       "      <th>CARD_CLASSCIFICATION</th>\n",
       "      <th>CREDIT_LIMIT</th>\n",
       "    </tr>\n",
       "  </thead>\n",
       "  <tbody>\n",
       "    <tr>\n",
       "      <th>19556</th>\n",
       "      <td>edde34acffa781f54d40dd73253b3e35</td>\n",
       "      <td>4ee4b831b42c7fe607fc01ce893764ef1cfff32761db44...</td>\n",
       "      <td>2023-06-16 07:17:29</td>\n",
       "      <td>OPTP0119</td>\n",
       "      <td>NaN</td>\n",
       "      <td>NaN</td>\n",
       "      <td>NaN</td>\n",
       "      <td>VC</td>\n",
       "      <td>30000000</td>\n",
       "    </tr>\n",
       "    <tr>\n",
       "      <th>19557</th>\n",
       "      <td>edde34acffa781f54d40dd73253b3e35</td>\n",
       "      <td>4ee4b831b42c7fe607fc01ce893764ef1cfff32761db44...</td>\n",
       "      <td>2023-07-31 00:00:00</td>\n",
       "      <td>OPTP0000</td>\n",
       "      <td>THAKRAL ONE -NGUYEN TRUON HCM  704 00000</td>\n",
       "      <td>900000.0</td>\n",
       "      <td>NaN</td>\n",
       "      <td>VC</td>\n",
       "      <td>30000000</td>\n",
       "    </tr>\n",
       "    <tr>\n",
       "      <th>19558</th>\n",
       "      <td>edde34acffa781f54d40dd73253b3e35</td>\n",
       "      <td>4ee4b831b42c7fe607fc01ce893764ef1cfff32761db44...</td>\n",
       "      <td>2023-07-29 00:00:00</td>\n",
       "      <td>OPTP0000</td>\n",
       "      <td>SIEU THI LUXY HCM  704 10000</td>\n",
       "      <td>766000.0</td>\n",
       "      <td>NaN</td>\n",
       "      <td>VC</td>\n",
       "      <td>30000000</td>\n",
       "    </tr>\n",
       "    <tr>\n",
       "      <th>19559</th>\n",
       "      <td>edde34acffa781f54d40dd73253b3e35</td>\n",
       "      <td>4ee4b831b42c7fe607fc01ce893764ef1cfff32761db44...</td>\n",
       "      <td>2023-07-29 18:46:45</td>\n",
       "      <td>OPTP0000</td>\n",
       "      <td>SIEU THI LUXY Q BINH THANH 704</td>\n",
       "      <td>766000.0</td>\n",
       "      <td>402337506.0</td>\n",
       "      <td>VC</td>\n",
       "      <td>30000000</td>\n",
       "    </tr>\n",
       "    <tr>\n",
       "      <th>19560</th>\n",
       "      <td>edde34acffa781f54d40dd73253b3e35</td>\n",
       "      <td>4ee4b831b42c7fe607fc01ce893764ef1cfff32761db44...</td>\n",
       "      <td>2023-07-31 11:10:32</td>\n",
       "      <td>OPTP0000</td>\n",
       "      <td>THAKRAL ONE -NGUYEN TRUON HCM 704</td>\n",
       "      <td>900000.0</td>\n",
       "      <td>402804856.0</td>\n",
       "      <td>VC</td>\n",
       "      <td>30000000</td>\n",
       "    </tr>\n",
       "  </tbody>\n",
       "</table>\n",
       "</div>"
      ],
      "text/plain": [
       "                               CIF hash  \\\n",
       "19556  edde34acffa781f54d40dd73253b3e35   \n",
       "19557  edde34acffa781f54d40dd73253b3e35   \n",
       "19558  edde34acffa781f54d40dd73253b3e35   \n",
       "19559  edde34acffa781f54d40dd73253b3e35   \n",
       "19560  edde34acffa781f54d40dd73253b3e35   \n",
       "\n",
       "                                           CARD_NBR hash               TXN_TM  \\\n",
       "19556  4ee4b831b42c7fe607fc01ce893764ef1cfff32761db44...  2023-06-16 07:17:29   \n",
       "19557  4ee4b831b42c7fe607fc01ce893764ef1cfff32761db44...  2023-07-31 00:00:00   \n",
       "19558  4ee4b831b42c7fe607fc01ce893764ef1cfff32761db44...  2023-07-29 00:00:00   \n",
       "19559  4ee4b831b42c7fe607fc01ce893764ef1cfff32761db44...  2023-07-29 18:46:45   \n",
       "19560  4ee4b831b42c7fe607fc01ce893764ef1cfff32761db44...  2023-07-31 11:10:32   \n",
       "\n",
       "      TML_WEB_AP_NM                                       DSC  \\\n",
       "19556      OPTP0119                                       NaN   \n",
       "19557      OPTP0000  THAKRAL ONE -NGUYEN TRUON HCM  704 00000   \n",
       "19558      OPTP0000              SIEU THI LUXY HCM  704 10000   \n",
       "19559      OPTP0000            SIEU THI LUXY Q BINH THANH 704   \n",
       "19560      OPTP0000         THAKRAL ONE -NGUYEN TRUON HCM 704   \n",
       "\n",
       "       NET_CASH_FLOW_AMT_LCY   TXN_SRC_ID CARD_CLASSCIFICATION  CREDIT_LIMIT  \n",
       "19556                    NaN          NaN                   VC      30000000  \n",
       "19557               900000.0          NaN                   VC      30000000  \n",
       "19558               766000.0          NaN                   VC      30000000  \n",
       "19559               766000.0  402337506.0                   VC      30000000  \n",
       "19560               900000.0  402804856.0                   VC      30000000  "
      ]
     },
     "execution_count": 57,
     "metadata": {},
     "output_type": "execute_result"
    }
   ],
   "source": [
    "merged_df.tail()"
   ]
  },
  {
   "cell_type": "code",
   "execution_count": 58,
   "metadata": {},
   "outputs": [
    {
     "data": {
      "text/plain": [
       "CIF hash\n",
       "7e9c172d235c590cbe8eb74b1489b7c8    1926\n",
       "c7896c69fd34a4a28f5d22d78bb4b663    1280\n",
       "8b0cd88c599475377a006f9535233825     859\n",
       "815e4858d422f45f27ff703fce8acfed     802\n",
       "ef6af2ae19ebeed14db05a8a262ac7de     785\n",
       "                                    ... \n",
       "8452ec5e9124dae1ad41d6909f5e012b      15\n",
       "a2f5bfe400cca23d376d49f5e6d4d49f      11\n",
       "b08b398d3bafef2842025166e0085652       8\n",
       "7789da1193b1a05eefa52f0d8fa70257       6\n",
       "edde34acffa781f54d40dd73253b3e35       6\n",
       "Name: count, Length: 110, dtype: int64"
      ]
     },
     "execution_count": 58,
     "metadata": {},
     "output_type": "execute_result"
    }
   ],
   "source": [
    "merged_df[\"CIF hash\"].value_counts()"
   ]
  },
  {
   "cell_type": "code",
   "execution_count": 59,
   "metadata": {},
   "outputs": [
    {
     "data": {
      "text/plain": [
       "CIF hash\n",
       "7e9c172d235c590cbe8eb74b1489b7c8    1926\n",
       "c7896c69fd34a4a28f5d22d78bb4b663    1280\n",
       "8b0cd88c599475377a006f9535233825     859\n",
       "815e4858d422f45f27ff703fce8acfed     802\n",
       "ef6af2ae19ebeed14db05a8a262ac7de     785\n",
       "                                    ... \n",
       "8452ec5e9124dae1ad41d6909f5e012b      15\n",
       "a2f5bfe400cca23d376d49f5e6d4d49f      11\n",
       "b08b398d3bafef2842025166e0085652       8\n",
       "7789da1193b1a05eefa52f0d8fa70257       6\n",
       "edde34acffa781f54d40dd73253b3e35       6\n",
       "Name: count, Length: 110, dtype: int64"
      ]
     },
     "execution_count": 59,
     "metadata": {},
     "output_type": "execute_result"
    }
   ],
   "source": [
    "fact_df[\"CIF hash\"].value_counts()"
   ]
  },
  {
   "cell_type": "code",
   "execution_count": 60,
   "metadata": {},
   "outputs": [
    {
     "data": {
      "text/plain": [
       "6260    2023-02-10 00:00:00\n",
       "6261    2023-02-10 00:00:00\n",
       "6262    2023-02-11 00:00:00\n",
       "6263    2023-02-11 00:00:00\n",
       "6264    2023-02-11 01:28:08\n",
       "               ...         \n",
       "8181    2023-04-20 12:34:27\n",
       "8182    2023-05-08 11:50:04\n",
       "8183    2023-05-08 00:00:00\n",
       "8184    2023-08-18 23:48:49\n",
       "8185    2023-08-04 18:41:14\n",
       "Name: TXN_TM, Length: 1926, dtype: object"
      ]
     },
     "execution_count": 60,
     "metadata": {},
     "output_type": "execute_result"
    }
   ],
   "source": [
    "merged_df[merged_df[\"CIF hash\"]==\"7e9c172d235c590cbe8eb74b1489b7c8\"][\"TXN_TM\"]"
   ]
  },
  {
   "cell_type": "code",
   "execution_count": 61,
   "metadata": {},
   "outputs": [],
   "source": [
    "merged_df['TXN_TM'] = pd.to_datetime(merged_df['TXN_TM'])\n"
   ]
  },
  {
   "cell_type": "code",
   "execution_count": 82,
   "metadata": {},
   "outputs": [],
   "source": [
    "def split_period_time(df, time_col):\n",
    "    df['year'] = df[time_col].dt.year\n",
    "    df['month'] = df[time_col].dt.month\n",
    "\n",
    "    # Create a mask for rows where date falls between 22nd of one month and 21st of the next month\n",
    "    mask = ((df[time_col].dt.day >= 22) & (df[time_col].dt.month == df['month'])) | \\\n",
    "        ((df[time_col].dt.day <= 21) & (df[time_col].dt.month == df['month'] + 1))\n",
    "    interval_1 = df[mask]\n",
    "    interval_2 = df[~mask]\n",
    "    return interval_1, interval_2"
   ]
  },
  {
   "cell_type": "code",
   "execution_count": 83,
   "metadata": {},
   "outputs": [],
   "source": [
    "in_debt_time_next_month, _ = split_period_time(merged_df, 'TXN_TM')"
   ]
  },
  {
   "cell_type": "code",
   "execution_count": 101,
   "metadata": {},
   "outputs": [
    {
     "name": "stdout",
     "output_type": "stream",
     "text": [
      "(5590, 11) (3444, 11)\n"
     ]
    }
   ],
   "source": [
    "in_debt_time_next_month[\"TXN_SRC_ID\"].isna().value_counts()\n",
    "valid_in_debt_time_next_month = in_debt_time_next_month[~in_debt_time_next_month[\"TXN_SRC_ID\"].isna()]\n",
    "print(in_debt_time_next_month.shape, valid_in_debt_time_next_month.shape)"
   ]
  },
  {
   "cell_type": "code",
   "execution_count": 91,
   "metadata": {},
   "outputs": [],
   "source": [
    "# valid_in_debt_time_next_month.where(valid_in_debt_time_next_month[\"TML_WEB_AP_NM\"] in [\"OPTP0000\", \"OPTP0119\"]).groupby('CARD_NBR hash').agg({'NET_CASH_FLOW_AMT_LCY': 'sum'})\n",
    "def calculate_sum_debt_in_time(df: pd.DataFrame):\n",
    "    df = df.where((df[\"TML_WEB_AP_NM\"] == \"OPTP0000\") | (df[\"TML_WEB_AP_NM\"] == \"OPTP0119\"))\n",
    "    return df.groupby('CARD_NBR hash').agg({'NET_CASH_FLOW_AMT_LCY': 'sum'})\n",
    "    "
   ]
  },
  {
   "cell_type": "code",
   "execution_count": 93,
   "metadata": {},
   "outputs": [
    {
     "data": {
      "text/plain": [
       "CARD_NBR hash\n",
       "00b665c97333b0efd338b204f31ab18b18858dc0ec597bf7a2732b810f5a6012    12145965.0\n",
       "01e1df72ab754aba55b6f56c238d96c8d767aeac3ff6fcd5e5f8c7a2ddd06d2c    27057016.0\n",
       "0693d33c6f190387dc1cc91eb97d6cfb41dbd90405d4d90f3d23a69b0890bc1f    28375179.0\n",
       "093cd5a7de80aec3a44e423f36f9da99559bdfe7fc3c4bb8b9bb1291ad1e8f51    25732311.0\n",
       "0aab888f988c63dc1fb70a5a24c3255dce1ca40fb3d2dab9defe2abaace49741     7301582.0\n",
       "                                                                       ...    \n",
       "fa591526edb41ed3c7ceaf861e3e027be029ebeba0c3d58682b8cb5833cbe49c     1979346.0\n",
       "fb95c2ecb85ba1abc8f35052e3aa848ffaffc3fdaab3339c31bb9df98cb98b16    20000000.0\n",
       "fc940f73e1b6521c76738324aad88dd99511687706427883c8e6a2b0a896916a     7796030.0\n",
       "fddd87622ba07539c2b1a1689ce4fa67725ceda0e70fdb8bed491ac4ac6dec44     6825701.0\n",
       "fee9c68bd0b8c7d48f8f895731dba865684705c42b98897334c3f9422d717c0f     2007099.0\n",
       "Name: NET_CASH_FLOW_AMT_LCY, Length: 100, dtype: float64"
      ]
     },
     "execution_count": 93,
     "metadata": {},
     "output_type": "execute_result"
    }
   ],
   "source": [
    "calculate_sum_debt_in_time(valid_in_debt_time_next_month).loc[:, \"NET_CASH_FLOW_AMT_LCY\"]"
   ]
  },
  {
   "cell_type": "code",
   "execution_count": 98,
   "metadata": {},
   "outputs": [
    {
     "data": {
      "text/plain": [
       "9000000"
      ]
     },
     "execution_count": 98,
     "metadata": {},
     "output_type": "execute_result"
    }
   ],
   "source": [
    "dim_df.loc[dim_df['CARD_NBR hash'] == \"00b665c97333b0efd338b204f31ab18b18858dc0ec597bf7a2732b810f5a6012\", 'CREDIT_LIMIT'].iloc[0]"
   ]
  },
  {
   "cell_type": "code",
   "execution_count": 97,
   "metadata": {},
   "outputs": [
    {
     "data": {
      "text/plain": [
       "<bound method NDFrame.head of                              CIF hash  \\\n",
       "0    8be1cf5b2f6631bb1ac59870f7f669a6   \n",
       "1    4245fc82e1c81cecfc821752609a8289   \n",
       "2    24dc185ddc00fdbe7a3519e5a3bb2c12   \n",
       "3    0340ab3837f34a1aa87d5b5a8a25a07e   \n",
       "4    87d7997fd71709aad458a1b3b9c77e33   \n",
       "..                                ...   \n",
       "105  b2e47148bfa8e1e67bcc41835bfdd76b   \n",
       "106  ce35d9f395952dc704ed3f4530668233   \n",
       "107  d36cd719ff87d856c50135ad59bafae4   \n",
       "108  05a6d37e7ea9a73c5343618218d0ddc6   \n",
       "109  2cb3fc60ab6a9f230f115fa07eb7d686   \n",
       "\n",
       "                                         CARD_NBR hash  CREDIT_LIMIT  \n",
       "0    30301079b6939d5d023e1e8c0dd4cc1e3afdfbcf71c76d...      16000000  \n",
       "1    7bc66484f2e2db4c181a076a11450b7d0359478c57dd21...      20000000  \n",
       "2    ef3100c465a27ebfbbb714535de2a3441ad952eff3f6d2...      49000000  \n",
       "3    8a310933f4b7f835b19a0a8a2ab43ef865e49111d3fb0a...      17000000  \n",
       "4    3aed5f483b3f8fd580f979313770e06f7252c4a480d866...      23000000  \n",
       "..                                                 ...           ...  \n",
       "105  471fbe4699a500224ae593d38432e4b8d95702a26a6d24...      18000000  \n",
       "106  bd1bb10c315cc23a317a9a888b047cea19b08b1b2a4adc...      50000000  \n",
       "107  e82bfeace7d4edeab6e71fe3893be35c4c00c0eaecba8e...      14000000  \n",
       "108  0f4c05a84b29afc0c897c88c37c951fc60d884eb2ce993...      40000000  \n",
       "109  26c90ff353c1c4f040acdf4a35e34d407a16a77b300728...      30000000  \n",
       "\n",
       "[110 rows x 3 columns]>"
      ]
     },
     "execution_count": 97,
     "metadata": {},
     "output_type": "execute_result"
    }
   ],
   "source": [
    "dim_df.head"
   ]
  },
  {
   "cell_type": "code",
   "execution_count": 102,
   "metadata": {},
   "outputs": [
    {
     "data": {
      "text/html": [
       "<div>\n",
       "<style scoped>\n",
       "    .dataframe tbody tr th:only-of-type {\n",
       "        vertical-align: middle;\n",
       "    }\n",
       "\n",
       "    .dataframe tbody tr th {\n",
       "        vertical-align: top;\n",
       "    }\n",
       "\n",
       "    .dataframe thead th {\n",
       "        text-align: right;\n",
       "    }\n",
       "</style>\n",
       "<table border=\"1\" class=\"dataframe\">\n",
       "  <thead>\n",
       "    <tr style=\"text-align: right;\">\n",
       "      <th></th>\n",
       "      <th>CIF hash</th>\n",
       "      <th>CARD_NBR hash</th>\n",
       "      <th>TXN_TM</th>\n",
       "      <th>TML_WEB_AP_NM</th>\n",
       "      <th>DSC</th>\n",
       "      <th>NET_CASH_FLOW_AMT_LCY</th>\n",
       "      <th>TXN_SRC_ID</th>\n",
       "      <th>CARD_CLASSCIFICATION</th>\n",
       "      <th>CREDIT_LIMIT</th>\n",
       "      <th>year</th>\n",
       "      <th>month</th>\n",
       "    </tr>\n",
       "  </thead>\n",
       "  <tbody>\n",
       "    <tr>\n",
       "      <th>0</th>\n",
       "      <td>0deb82c7391489aa02c771fec3b67f0f</td>\n",
       "      <td>41874f1bdd5736ee9e3c884326e3137839484f3ab3a86b...</td>\n",
       "      <td>2022-05-22 08:51:55</td>\n",
       "      <td>OPTP0000</td>\n",
       "      <td>MOMO VN 1900545441 704</td>\n",
       "      <td>512200.0</td>\n",
       "      <td>270597152.0</td>\n",
       "      <td>VC</td>\n",
       "      <td>11000000.0</td>\n",
       "      <td>2022.0</td>\n",
       "      <td>5.0</td>\n",
       "    </tr>\n",
       "    <tr>\n",
       "      <th>11</th>\n",
       "      <td>0deb82c7391489aa02c771fec3b67f0f</td>\n",
       "      <td>41874f1bdd5736ee9e3c884326e3137839484f3ab3a86b...</td>\n",
       "      <td>2022-09-24 22:48:54</td>\n",
       "      <td>OPTP0000</td>\n",
       "      <td>MOMO VN 1900545441 704</td>\n",
       "      <td>104200.0</td>\n",
       "      <td>304871879.0</td>\n",
       "      <td>VC</td>\n",
       "      <td>11000000.0</td>\n",
       "      <td>2022.0</td>\n",
       "      <td>9.0</td>\n",
       "    </tr>\n",
       "    <tr>\n",
       "      <th>12</th>\n",
       "      <td>0deb82c7391489aa02c771fec3b67f0f</td>\n",
       "      <td>41874f1bdd5736ee9e3c884326e3137839484f3ab3a86b...</td>\n",
       "      <td>2022-09-24 10:54:34</td>\n",
       "      <td>OPTP0000</td>\n",
       "      <td>MOMO VN 1900545441 704</td>\n",
       "      <td>512200.0</td>\n",
       "      <td>304665707.0</td>\n",
       "      <td>VC</td>\n",
       "      <td>11000000.0</td>\n",
       "      <td>2022.0</td>\n",
       "      <td>9.0</td>\n",
       "    </tr>\n",
       "    <tr>\n",
       "      <th>16</th>\n",
       "      <td>0deb82c7391489aa02c771fec3b67f0f</td>\n",
       "      <td>41874f1bdd5736ee9e3c884326e3137839484f3ab3a86b...</td>\n",
       "      <td>2022-09-28 06:30:41</td>\n",
       "      <td>OPTP0000</td>\n",
       "      <td>MOMO VN 1900545441 704</td>\n",
       "      <td>53200.0</td>\n",
       "      <td>305742119.0</td>\n",
       "      <td>VC</td>\n",
       "      <td>11000000.0</td>\n",
       "      <td>2022.0</td>\n",
       "      <td>9.0</td>\n",
       "    </tr>\n",
       "    <tr>\n",
       "      <th>21</th>\n",
       "      <td>0deb82c7391489aa02c771fec3b67f0f</td>\n",
       "      <td>41874f1bdd5736ee9e3c884326e3137839484f3ab3a86b...</td>\n",
       "      <td>2022-05-25 22:42:35</td>\n",
       "      <td>OPTP0000</td>\n",
       "      <td>MOMO VN 1900545441 704</td>\n",
       "      <td>53200.0</td>\n",
       "      <td>271548186.0</td>\n",
       "      <td>VC</td>\n",
       "      <td>11000000.0</td>\n",
       "      <td>2022.0</td>\n",
       "      <td>5.0</td>\n",
       "    </tr>\n",
       "    <tr>\n",
       "      <th>...</th>\n",
       "      <td>...</td>\n",
       "      <td>...</td>\n",
       "      <td>...</td>\n",
       "      <td>...</td>\n",
       "      <td>...</td>\n",
       "      <td>...</td>\n",
       "      <td>...</td>\n",
       "      <td>...</td>\n",
       "      <td>...</td>\n",
       "      <td>...</td>\n",
       "      <td>...</td>\n",
       "    </tr>\n",
       "    <tr>\n",
       "      <th>19549</th>\n",
       "      <td>7789da1193b1a05eefa52f0d8fa70257</td>\n",
       "      <td>fb95c2ecb85ba1abc8f35052e3aa848ffaffc3fdaab333...</td>\n",
       "      <td>2023-05-31 16:31:55</td>\n",
       "      <td>OPTP0000</td>\n",
       "      <td>MPOS*VJ SHOP HO CHI MINH 704</td>\n",
       "      <td>20000000.0</td>\n",
       "      <td>381892784.0</td>\n",
       "      <td>VC</td>\n",
       "      <td>25000000.0</td>\n",
       "      <td>2023.0</td>\n",
       "      <td>5.0</td>\n",
       "    </tr>\n",
       "    <tr>\n",
       "      <th>19551</th>\n",
       "      <td>NaN</td>\n",
       "      <td>NaN</td>\n",
       "      <td>NaT</td>\n",
       "      <td>NaN</td>\n",
       "      <td>NaN</td>\n",
       "      <td>NaN</td>\n",
       "      <td>NaN</td>\n",
       "      <td>NaN</td>\n",
       "      <td>NaN</td>\n",
       "      <td>NaN</td>\n",
       "      <td>NaN</td>\n",
       "    </tr>\n",
       "    <tr>\n",
       "      <th>19554</th>\n",
       "      <td>NaN</td>\n",
       "      <td>NaN</td>\n",
       "      <td>NaT</td>\n",
       "      <td>NaN</td>\n",
       "      <td>NaN</td>\n",
       "      <td>NaN</td>\n",
       "      <td>NaN</td>\n",
       "      <td>NaN</td>\n",
       "      <td>NaN</td>\n",
       "      <td>NaN</td>\n",
       "      <td>NaN</td>\n",
       "    </tr>\n",
       "    <tr>\n",
       "      <th>19559</th>\n",
       "      <td>edde34acffa781f54d40dd73253b3e35</td>\n",
       "      <td>4ee4b831b42c7fe607fc01ce893764ef1cfff32761db44...</td>\n",
       "      <td>2023-07-29 18:46:45</td>\n",
       "      <td>OPTP0000</td>\n",
       "      <td>SIEU THI LUXY Q BINH THANH 704</td>\n",
       "      <td>766000.0</td>\n",
       "      <td>402337506.0</td>\n",
       "      <td>VC</td>\n",
       "      <td>30000000.0</td>\n",
       "      <td>2023.0</td>\n",
       "      <td>7.0</td>\n",
       "    </tr>\n",
       "    <tr>\n",
       "      <th>19560</th>\n",
       "      <td>edde34acffa781f54d40dd73253b3e35</td>\n",
       "      <td>4ee4b831b42c7fe607fc01ce893764ef1cfff32761db44...</td>\n",
       "      <td>2023-07-31 11:10:32</td>\n",
       "      <td>OPTP0000</td>\n",
       "      <td>THAKRAL ONE -NGUYEN TRUON HCM 704</td>\n",
       "      <td>900000.0</td>\n",
       "      <td>402804856.0</td>\n",
       "      <td>VC</td>\n",
       "      <td>30000000.0</td>\n",
       "      <td>2023.0</td>\n",
       "      <td>7.0</td>\n",
       "    </tr>\n",
       "  </tbody>\n",
       "</table>\n",
       "<p>3444 rows × 11 columns</p>\n",
       "</div>"
      ],
      "text/plain": [
       "                               CIF hash  \\\n",
       "0      0deb82c7391489aa02c771fec3b67f0f   \n",
       "11     0deb82c7391489aa02c771fec3b67f0f   \n",
       "12     0deb82c7391489aa02c771fec3b67f0f   \n",
       "16     0deb82c7391489aa02c771fec3b67f0f   \n",
       "21     0deb82c7391489aa02c771fec3b67f0f   \n",
       "...                                 ...   \n",
       "19549  7789da1193b1a05eefa52f0d8fa70257   \n",
       "19551                               NaN   \n",
       "19554                               NaN   \n",
       "19559  edde34acffa781f54d40dd73253b3e35   \n",
       "19560  edde34acffa781f54d40dd73253b3e35   \n",
       "\n",
       "                                           CARD_NBR hash              TXN_TM  \\\n",
       "0      41874f1bdd5736ee9e3c884326e3137839484f3ab3a86b... 2022-05-22 08:51:55   \n",
       "11     41874f1bdd5736ee9e3c884326e3137839484f3ab3a86b... 2022-09-24 22:48:54   \n",
       "12     41874f1bdd5736ee9e3c884326e3137839484f3ab3a86b... 2022-09-24 10:54:34   \n",
       "16     41874f1bdd5736ee9e3c884326e3137839484f3ab3a86b... 2022-09-28 06:30:41   \n",
       "21     41874f1bdd5736ee9e3c884326e3137839484f3ab3a86b... 2022-05-25 22:42:35   \n",
       "...                                                  ...                 ...   \n",
       "19549  fb95c2ecb85ba1abc8f35052e3aa848ffaffc3fdaab333... 2023-05-31 16:31:55   \n",
       "19551                                                NaN                 NaT   \n",
       "19554                                                NaN                 NaT   \n",
       "19559  4ee4b831b42c7fe607fc01ce893764ef1cfff32761db44... 2023-07-29 18:46:45   \n",
       "19560  4ee4b831b42c7fe607fc01ce893764ef1cfff32761db44... 2023-07-31 11:10:32   \n",
       "\n",
       "      TML_WEB_AP_NM                                DSC  NET_CASH_FLOW_AMT_LCY  \\\n",
       "0          OPTP0000             MOMO VN 1900545441 704               512200.0   \n",
       "11         OPTP0000             MOMO VN 1900545441 704               104200.0   \n",
       "12         OPTP0000             MOMO VN 1900545441 704               512200.0   \n",
       "16         OPTP0000             MOMO VN 1900545441 704                53200.0   \n",
       "21         OPTP0000             MOMO VN 1900545441 704                53200.0   \n",
       "...             ...                                ...                    ...   \n",
       "19549      OPTP0000       MPOS*VJ SHOP HO CHI MINH 704             20000000.0   \n",
       "19551           NaN                                NaN                    NaN   \n",
       "19554           NaN                                NaN                    NaN   \n",
       "19559      OPTP0000     SIEU THI LUXY Q BINH THANH 704               766000.0   \n",
       "19560      OPTP0000  THAKRAL ONE -NGUYEN TRUON HCM 704               900000.0   \n",
       "\n",
       "        TXN_SRC_ID CARD_CLASSCIFICATION  CREDIT_LIMIT    year  month  \n",
       "0      270597152.0                   VC    11000000.0  2022.0    5.0  \n",
       "11     304871879.0                   VC    11000000.0  2022.0    9.0  \n",
       "12     304665707.0                   VC    11000000.0  2022.0    9.0  \n",
       "16     305742119.0                   VC    11000000.0  2022.0    9.0  \n",
       "21     271548186.0                   VC    11000000.0  2022.0    5.0  \n",
       "...            ...                  ...           ...     ...    ...  \n",
       "19549  381892784.0                   VC    25000000.0  2023.0    5.0  \n",
       "19551          NaN                  NaN           NaN     NaN    NaN  \n",
       "19554          NaN                  NaN           NaN     NaN    NaN  \n",
       "19559  402337506.0                   VC    30000000.0  2023.0    7.0  \n",
       "19560  402804856.0                   VC    30000000.0  2023.0    7.0  \n",
       "\n",
       "[3444 rows x 11 columns]"
      ]
     },
     "execution_count": 102,
     "metadata": {},
     "output_type": "execute_result"
    }
   ],
   "source": [
    "valid_in_debt_time_next_month.where((valid_in_debt_time_next_month[\"TML_WEB_AP_NM\"] == \"OPTP0000\") | (valid_in_debt_time_next_month[\"TML_WEB_AP_NM\"] == \"OPTP0119\"))\n"
   ]
  },
  {
   "cell_type": "code",
   "execution_count": 103,
   "metadata": {},
   "outputs": [
    {
     "data": {
      "text/plain": [
       "CIF hash                 0\n",
       "CARD_NBR hash            0\n",
       "TXN_TM                   0\n",
       "TML_WEB_AP_NM            0\n",
       "DSC                      0\n",
       "NET_CASH_FLOW_AMT_LCY    0\n",
       "TXN_SRC_ID               0\n",
       "CARD_CLASSCIFICATION     0\n",
       "CREDIT_LIMIT             0\n",
       "year                     0\n",
       "month                    0\n",
       "dtype: int64"
      ]
     },
     "execution_count": 103,
     "metadata": {},
     "output_type": "execute_result"
    }
   ],
   "source": [
    "valid_in_debt_time_next_month.isna().sum()"
   ]
  },
  {
   "cell_type": "code",
   "execution_count": 104,
   "metadata": {},
   "outputs": [
    {
     "data": {
      "text/plain": [
       "CIF hash                    0\n",
       "CARD_NBR hash               0\n",
       "TXN_TM                      0\n",
       "TML_WEB_AP_NM               0\n",
       "DSC                       315\n",
       "NET_CASH_FLOW_AMT_LCY     123\n",
       "TXN_SRC_ID               7752\n",
       "CARD_CLASSCIFICATION        0\n",
       "dtype: int64"
      ]
     },
     "execution_count": 104,
     "metadata": {},
     "output_type": "execute_result"
    }
   ],
   "source": [
    "fact_df.isna().sum()"
   ]
  },
  {
   "cell_type": "code",
   "execution_count": 105,
   "metadata": {},
   "outputs": [
    {
     "data": {
      "text/plain": [
       "CIF hash                    0\n",
       "CARD_NBR hash               0\n",
       "TXN_TM                      0\n",
       "TML_WEB_AP_NM               0\n",
       "DSC                       315\n",
       "NET_CASH_FLOW_AMT_LCY     123\n",
       "TXN_SRC_ID               7752\n",
       "CARD_CLASSCIFICATION        0\n",
       "CREDIT_LIMIT                0\n",
       "year                        0\n",
       "month                       0\n",
       "dtype: int64"
      ]
     },
     "execution_count": 105,
     "metadata": {},
     "output_type": "execute_result"
    }
   ],
   "source": [
    "merged_df.isna().sum()"
   ]
  },
  {
   "cell_type": "code",
   "execution_count": 111,
   "metadata": {},
   "outputs": [
    {
     "data": {
      "text/plain": [
       "Series([], Name: CARD_NBR hash, dtype: int64)"
      ]
     },
     "execution_count": 111,
     "metadata": {},
     "output_type": "execute_result"
    }
   ],
   "source": [
    "# check how many card of one customer\n",
    "distinct_counts = fact_df.groupby(\"CIF hash\")['CARD_NBR hash'].nunique()\n",
    "more_than_one_distinct = distinct_counts[distinct_counts > 1]\n",
    "more_than_one_distinct"
   ]
  },
  {
   "cell_type": "code",
   "execution_count": 119,
   "metadata": {},
   "outputs": [
    {
     "name": "stdout",
     "output_type": "stream",
     "text": [
      "CARD_NBR hash\n",
      "00b665c97333b0efd338b204f31ab18b18858dc0ec597bf7a2732b810f5a6012    1\n",
      "01e1df72ab754aba55b6f56c238d96c8d767aeac3ff6fcd5e5f8c7a2ddd06d2c    1\n",
      "0693d33c6f190387dc1cc91eb97d6cfb41dbd90405d4d90f3d23a69b0890bc1f    1\n",
      "093cd5a7de80aec3a44e423f36f9da99559bdfe7fc3c4bb8b9bb1291ad1e8f51    1\n",
      "0aab888f988c63dc1fb70a5a24c3255dce1ca40fb3d2dab9defe2abaace49741    2\n",
      "                                                                   ..\n",
      "fb95c2ecb85ba1abc8f35052e3aa848ffaffc3fdaab3339c31bb9df98cb98b16    1\n",
      "fc940f73e1b6521c76738324aad88dd99511687706427883c8e6a2b0a896916a    1\n",
      "fddd87622ba07539c2b1a1689ce4fa67725ceda0e70fdb8bed491ac4ac6dec44    1\n",
      "fde6a722ac2d1cc152f0193124de8937009d852896be0ba01385896c2bb8adc6    1\n",
      "fee9c68bd0b8c7d48f8f895731dba865684705c42b98897334c3f9422d717c0f    1\n",
      "Name: CIF hash, Length: 109, dtype: int64\n"
     ]
    },
    {
     "data": {
      "text/plain": [
       "CARD_NBR hash\n",
       "0aab888f988c63dc1fb70a5a24c3255dce1ca40fb3d2dab9defe2abaace49741    2\n",
       "Name: CIF hash, dtype: int64"
      ]
     },
     "execution_count": 119,
     "metadata": {},
     "output_type": "execute_result"
    }
   ],
   "source": [
    "# check if card is share by 2 customer\n",
    "distinct_counts_reverse = dim_df.groupby(\"CARD_NBR hash\")['CIF hash'].nunique()\n",
    "print(distinct_counts_reverse)\n",
    "more_than_one_distinct_reverse = distinct_counts_reverse[distinct_counts_reverse > 1]\n",
    "more_than_one_distinct_reverse"
   ]
  },
  {
   "cell_type": "code",
   "execution_count": 120,
   "metadata": {},
   "outputs": [
    {
     "data": {
      "text/plain": [
       "19    58335285c934594c182e5bd056d563f0\n",
       "95    2ce974ffd7e04069b2b5d9419ee631ce\n",
       "Name: CIF hash, dtype: object"
      ]
     },
     "execution_count": 120,
     "metadata": {},
     "output_type": "execute_result"
    }
   ],
   "source": [
    "dim_df.loc[dim_df['CARD_NBR hash'] == \"0aab888f988c63dc1fb70a5a24c3255dce1ca40fb3d2dab9defe2abaace49741\", 'CIF hash']"
   ]
  },
  {
   "cell_type": "code",
   "execution_count": 121,
   "metadata": {},
   "outputs": [
    {
     "data": {
      "text/plain": [
       "109"
      ]
     },
     "execution_count": 121,
     "metadata": {},
     "output_type": "execute_result"
    }
   ],
   "source": [
    "dim_df['CARD_NBR hash'].nunique()"
   ]
  },
  {
   "cell_type": "code",
   "execution_count": 122,
   "metadata": {},
   "outputs": [
    {
     "data": {
      "text/plain": [
       "110"
      ]
     },
     "execution_count": 122,
     "metadata": {},
     "output_type": "execute_result"
    }
   ],
   "source": [
    "dim_df['CIF hash'].nunique()"
   ]
  },
  {
   "cell_type": "code",
   "execution_count": null,
   "metadata": {},
   "outputs": [],
   "source": []
  }
 ],
 "metadata": {
  "kernelspec": {
   "display_name": ".venv",
   "language": "python",
   "name": "python3"
  },
  "language_info": {
   "codemirror_mode": {
    "name": "ipython",
    "version": 3
   },
   "file_extension": ".py",
   "mimetype": "text/x-python",
   "name": "python",
   "nbconvert_exporter": "python",
   "pygments_lexer": "ipython3",
   "version": "3.8.9"
  }
 },
 "nbformat": 4,
 "nbformat_minor": 2
}
